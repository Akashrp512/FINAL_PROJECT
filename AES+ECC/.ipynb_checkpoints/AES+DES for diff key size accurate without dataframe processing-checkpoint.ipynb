{
 "cells": [
  {
   "cell_type": "code",
   "execution_count": null,
   "id": "ec2dc002",
   "metadata": {},
   "outputs": [],
   "source": [
    "import pandas as pd\n",
    "import time\n",
    "import os\n",
    "from cryptography.hazmat.primitives.ciphers import Cipher, algorithms, modes\n",
    "from cryptography.hazmat.backends import default_backend\n",
    "from cryptography.hazmat.primitives.asymmetric import ec\n",
    "from cryptography.hazmat.primitives.kdf.hkdf import HKDF\n",
    "from cryptography.hazmat.primitives import hashes\n",
    "\n",
    "backend = default_backend()\n",
    "\n",
    "# Read the CSV file\n",
    "df = pd.read_csv(r\"C:\\Users\\91974\\Documents\\Bitcoin_tweets.csv\")\n",
    "\n",
    "# Convert the DataFrame to a string representation\n",
    "df_str = df.to_string()\n",
    "\n",
    "def derive_aes_key(ecc_private_key, key_size):\n",
    "    shared_secret = ecc_private_key.exchange(ec.ECDH(), ecc_private_key.public_key())\n",
    "    derived_key = HKDF(\n",
    "        algorithm=hashes.SHA256(),\n",
    "        length=key_size // 8,\n",
    "        salt=None,\n",
    "        info=None,\n",
    "        backend=backend\n",
    "    ).derive(shared_secret)\n",
    "    return derived_key\n",
    "\n",
    "key_sizes = [128, 192, 256]  # Valid key sizes for AES\n",
    "for key_size in key_sizes:\n",
    "    print(f\"\\nTesting with key size {key_size} bits\\n\")\n",
    "\n",
    "    ecc_private_key = ec.generate_private_key(ec.SECP256R1(), backend)\n",
    "    key = derive_aes_key(ecc_private_key, key_size)\n",
    "    nonce = os.urandom(16)\n",
    "    cipher = Cipher(algorithms.AES(key), modes.CTR(nonce), backend=backend)\n",
    "\n",
    "    # Encrypt the dataset using AES with the specified key size\n",
    "    start_time = time.time()\n",
    "    encryptor = cipher.encryptor()\n",
    "    encrypted_str = encryptor.update(df_str.encode()).decode('ISO-8859-1')\n",
    "    end_time = time.time()\n",
    "    encryption_time = end_time - start_time\n",
    "    print(f\"Overall encryption time: {encryption_time:.4f} seconds\\n\")\n",
    "\n",
    "    # Decrypt the dataset using AES with the specified key size\n",
    "    start_time = time.time()\n",
    "    decryptor = cipher.decryptor()\n",
    "    decrypted_str = decryptor.update(encrypted_str.encode('ISO-8859-1')).decode()\n",
    "    end_time = time.time()\n",
    "    decryption_time = end_time - start_time\n",
    "    print(f\"Overall decryption time: {decryption_time:.4f} seconds\\n\")\n"
   ]
  }
 ],
 "metadata": {
  "kernelspec": {
   "display_name": "Python 3 (ipykernel)",
   "language": "python",
   "name": "python3"
  },
  "language_info": {
   "codemirror_mode": {
    "name": "ipython",
    "version": 3
   },
   "file_extension": ".py",
   "mimetype": "text/x-python",
   "name": "python",
   "nbconvert_exporter": "python",
   "pygments_lexer": "ipython3",
   "version": "3.10.9"
  }
 },
 "nbformat": 4,
 "nbformat_minor": 5
}
